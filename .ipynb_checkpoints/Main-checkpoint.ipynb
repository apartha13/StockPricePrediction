{
 "cells": [
  {
   "cell_type": "code",
   "execution_count": 1,
   "id": "2b5f9f03-da98-4774-af30-4e8964bc47dc",
   "metadata": {},
   "outputs": [],
   "source": [
    "import numpy as np\n",
    "import pandas as pd\n",
    "import yfinance as yf\n",
    "import matplotlib.pyplot as plt\n",
    "\n",
    "import torch\n",
    "import torch.nn as nn\n",
    "import torch.optim as optim\n",
    "\n",
    "from sklearn.preprocessing import StandardScaler\n",
    "from sklearn.metrics import root_mean_squared_error"
   ]
  },
  {
   "cell_type": "code",
   "execution_count": 2,
   "id": "0f944734-3960-407b-aa7c-aa892fbbc057",
   "metadata": {},
   "outputs": [],
   "source": [
    "device = torch.device('cuda' if torch.cuda.is_available() else 'cpu')"
   ]
  },
  {
   "cell_type": "code",
   "execution_count": 3,
   "id": "baaa2893-6b88-4121-8aab-c70258477631",
   "metadata": {},
   "outputs": [
    {
     "name": "stderr",
     "output_type": "stream",
     "text": [
      "/var/folders/vr/mg8njp295yn9l8z2g6zgt26c0000gn/T/ipykernel_18828/2867026071.py:2: FutureWarning: YF.download() has changed argument auto_adjust default to True\n",
      "  df = yf.download(ticker, '2020-01-01')\n",
      "[*********************100%***********************]  1 of 1 completed\n"
     ]
    }
   ],
   "source": [
    "ticker = 'AAPL'\n",
    "df = yf.download(ticker, '2020-01-01')"
   ]
  },
  {
   "cell_type": "code",
   "execution_count": 4,
   "id": "b3ba4378-2250-4a96-8ab3-fb45df3d046f",
   "metadata": {},
   "outputs": [
    {
     "data": {
      "text/html": [
       "<div>\n",
       "<style scoped>\n",
       "    .dataframe tbody tr th:only-of-type {\n",
       "        vertical-align: middle;\n",
       "    }\n",
       "\n",
       "    .dataframe tbody tr th {\n",
       "        vertical-align: top;\n",
       "    }\n",
       "\n",
       "    .dataframe thead tr th {\n",
       "        text-align: left;\n",
       "    }\n",
       "\n",
       "    .dataframe thead tr:last-of-type th {\n",
       "        text-align: right;\n",
       "    }\n",
       "</style>\n",
       "<table border=\"1\" class=\"dataframe\">\n",
       "  <thead>\n",
       "    <tr>\n",
       "      <th>Price</th>\n",
       "      <th>Close</th>\n",
       "      <th>High</th>\n",
       "      <th>Low</th>\n",
       "      <th>Open</th>\n",
       "      <th>Volume</th>\n",
       "    </tr>\n",
       "    <tr>\n",
       "      <th>Ticker</th>\n",
       "      <th>AAPL</th>\n",
       "      <th>AAPL</th>\n",
       "      <th>AAPL</th>\n",
       "      <th>AAPL</th>\n",
       "      <th>AAPL</th>\n",
       "    </tr>\n",
       "    <tr>\n",
       "      <th>Date</th>\n",
       "      <th></th>\n",
       "      <th></th>\n",
       "      <th></th>\n",
       "      <th></th>\n",
       "      <th></th>\n",
       "    </tr>\n",
       "  </thead>\n",
       "  <tbody>\n",
       "    <tr>\n",
       "      <th>2020-01-02</th>\n",
       "      <td>72.620842</td>\n",
       "      <td>72.681289</td>\n",
       "      <td>71.373218</td>\n",
       "      <td>71.627092</td>\n",
       "      <td>135480400</td>\n",
       "    </tr>\n",
       "    <tr>\n",
       "      <th>2020-01-03</th>\n",
       "      <td>71.914810</td>\n",
       "      <td>72.676439</td>\n",
       "      <td>71.689950</td>\n",
       "      <td>71.847110</td>\n",
       "      <td>146322800</td>\n",
       "    </tr>\n",
       "    <tr>\n",
       "      <th>2020-01-06</th>\n",
       "      <td>72.487839</td>\n",
       "      <td>72.526526</td>\n",
       "      <td>70.783241</td>\n",
       "      <td>71.034702</td>\n",
       "      <td>118387200</td>\n",
       "    </tr>\n",
       "    <tr>\n",
       "      <th>2020-01-07</th>\n",
       "      <td>72.146942</td>\n",
       "      <td>72.753823</td>\n",
       "      <td>71.926915</td>\n",
       "      <td>72.497529</td>\n",
       "      <td>108872000</td>\n",
       "    </tr>\n",
       "    <tr>\n",
       "      <th>2020-01-08</th>\n",
       "      <td>73.307495</td>\n",
       "      <td>73.609729</td>\n",
       "      <td>71.849518</td>\n",
       "      <td>71.849518</td>\n",
       "      <td>132079200</td>\n",
       "    </tr>\n",
       "    <tr>\n",
       "      <th>...</th>\n",
       "      <td>...</td>\n",
       "      <td>...</td>\n",
       "      <td>...</td>\n",
       "      <td>...</td>\n",
       "      <td>...</td>\n",
       "    </tr>\n",
       "    <tr>\n",
       "      <th>2025-08-04</th>\n",
       "      <td>203.350006</td>\n",
       "      <td>207.880005</td>\n",
       "      <td>201.679993</td>\n",
       "      <td>204.509995</td>\n",
       "      <td>75109300</td>\n",
       "    </tr>\n",
       "    <tr>\n",
       "      <th>2025-08-05</th>\n",
       "      <td>202.919998</td>\n",
       "      <td>205.339996</td>\n",
       "      <td>202.160004</td>\n",
       "      <td>203.399994</td>\n",
       "      <td>44155100</td>\n",
       "    </tr>\n",
       "    <tr>\n",
       "      <th>2025-08-06</th>\n",
       "      <td>213.250000</td>\n",
       "      <td>215.380005</td>\n",
       "      <td>205.589996</td>\n",
       "      <td>205.630005</td>\n",
       "      <td>108483100</td>\n",
       "    </tr>\n",
       "    <tr>\n",
       "      <th>2025-08-07</th>\n",
       "      <td>220.029999</td>\n",
       "      <td>220.850006</td>\n",
       "      <td>216.580002</td>\n",
       "      <td>218.880005</td>\n",
       "      <td>90224800</td>\n",
       "    </tr>\n",
       "    <tr>\n",
       "      <th>2025-08-08</th>\n",
       "      <td>229.350006</td>\n",
       "      <td>231.000000</td>\n",
       "      <td>219.250000</td>\n",
       "      <td>220.830002</td>\n",
       "      <td>113696100</td>\n",
       "    </tr>\n",
       "  </tbody>\n",
       "</table>\n",
       "<p>1408 rows × 5 columns</p>\n",
       "</div>"
      ],
      "text/plain": [
       "Price            Close        High         Low        Open     Volume\n",
       "Ticker            AAPL        AAPL        AAPL        AAPL       AAPL\n",
       "Date                                                                 \n",
       "2020-01-02   72.620842   72.681289   71.373218   71.627092  135480400\n",
       "2020-01-03   71.914810   72.676439   71.689950   71.847110  146322800\n",
       "2020-01-06   72.487839   72.526526   70.783241   71.034702  118387200\n",
       "2020-01-07   72.146942   72.753823   71.926915   72.497529  108872000\n",
       "2020-01-08   73.307495   73.609729   71.849518   71.849518  132079200\n",
       "...                ...         ...         ...         ...        ...\n",
       "2025-08-04  203.350006  207.880005  201.679993  204.509995   75109300\n",
       "2025-08-05  202.919998  205.339996  202.160004  203.399994   44155100\n",
       "2025-08-06  213.250000  215.380005  205.589996  205.630005  108483100\n",
       "2025-08-07  220.029999  220.850006  216.580002  218.880005   90224800\n",
       "2025-08-08  229.350006  231.000000  219.250000  220.830002  113696100\n",
       "\n",
       "[1408 rows x 5 columns]"
      ]
     },
     "execution_count": 4,
     "metadata": {},
     "output_type": "execute_result"
    }
   ],
   "source": [
    "df"
   ]
  },
  {
   "cell_type": "code",
   "execution_count": 5,
   "id": "e1122372-7ac3-4a63-8c38-05598355535a",
   "metadata": {},
   "outputs": [
    {
     "data": {
      "text/plain": [
       "<Axes: xlabel='Date'>"
      ]
     },
     "execution_count": 5,
     "metadata": {},
     "output_type": "execute_result"
    },
    {
     "data": {
      "image/png": "[encoded data removed]",
      "text/plain": [
       "<Figure size 1200x800 with 1 Axes>"
      ]
     },
     "metadata": {},
     "output_type": "display_data"
    }
   ],
   "source": [
    "df.Close.plot(figsize = (12,8))"
   ]
  },
  {
   "cell_type": "code",
   "execution_count": 6,
   "id": "5d776936-dba2-45ca-9f47-1b9eb4474ff1",
   "metadata": {},
   "outputs": [],
   "source": [
    "scaler = StandardScaler()\n",
    "\n",
    "df['Close'] = scaler.fit_transform(df['Close'])"
   ]
  },
  {
   "cell_type": "code",
   "execution_count": 7,
   "id": "c4a39ae2-f81b-4d45-8d01-0da83feed0df",
   "metadata": {},
   "outputs": [
    {
     "data": {
      "text/html": [
       "<div>\n",
       "<style scoped>\n",
       "    .dataframe tbody tr th:only-of-type {\n",
       "        vertical-align: middle;\n",
       "    }\n",
       "\n",
       "    .dataframe tbody tr th {\n",
       "        vertical-align: top;\n",
       "    }\n",
       "\n",
       "    .dataframe thead th {\n",
       "        text-align: right;\n",
       "    }\n",
       "</style>\n",
       "<table border=\"1\" class=\"dataframe\">\n",
       "  <thead>\n",
       "    <tr style=\"text-align: right;\">\n",
       "      <th>Ticker</th>\n",
       "      <th>AAPL</th>\n",
       "    </tr>\n",
       "    <tr>\n",
       "      <th>Date</th>\n",
       "      <th></th>\n",
       "    </tr>\n",
       "  </thead>\n",
       "  <tbody>\n",
       "    <tr>\n",
       "      <th>2020-01-02</th>\n",
       "      <td>-1.932339</td>\n",
       "    </tr>\n",
       "    <tr>\n",
       "      <th>2020-01-03</th>\n",
       "      <td>-1.948182</td>\n",
       "    </tr>\n",
       "    <tr>\n",
       "      <th>2020-01-06</th>\n",
       "      <td>-1.935324</td>\n",
       "    </tr>\n",
       "    <tr>\n",
       "      <th>2020-01-07</th>\n",
       "      <td>-1.942973</td>\n",
       "    </tr>\n",
       "    <tr>\n",
       "      <th>2020-01-08</th>\n",
       "      <td>-1.916931</td>\n",
       "    </tr>\n",
       "    <tr>\n",
       "      <th>...</th>\n",
       "      <td>...</td>\n",
       "    </tr>\n",
       "    <tr>\n",
       "      <th>2025-08-04</th>\n",
       "      <td>1.001165</td>\n",
       "    </tr>\n",
       "    <tr>\n",
       "      <th>2025-08-05</th>\n",
       "      <td>0.991516</td>\n",
       "    </tr>\n",
       "    <tr>\n",
       "      <th>2025-08-06</th>\n",
       "      <td>1.223317</td>\n",
       "    </tr>\n",
       "    <tr>\n",
       "      <th>2025-08-07</th>\n",
       "      <td>1.375457</td>\n",
       "    </tr>\n",
       "    <tr>\n",
       "      <th>2025-08-08</th>\n",
       "      <td>1.584594</td>\n",
       "    </tr>\n",
       "  </tbody>\n",
       "</table>\n",
       "<p>1408 rows × 1 columns</p>\n",
       "</div>"
      ],
      "text/plain": [
       "Ticker          AAPL\n",
       "Date                \n",
       "2020-01-02 -1.932339\n",
       "2020-01-03 -1.948182\n",
       "2020-01-06 -1.935324\n",
       "2020-01-07 -1.942973\n",
       "2020-01-08 -1.916931\n",
       "...              ...\n",
       "2025-08-04  1.001165\n",
       "2025-08-05  0.991516\n",
       "2025-08-06  1.223317\n",
       "2025-08-07  1.375457\n",
       "2025-08-08  1.584594\n",
       "\n",
       "[1408 rows x 1 columns]"
      ]
     },
     "execution_count": 7,
     "metadata": {},
     "output_type": "execute_result"
    }
   ],
   "source": [
    "df.Close"
   ]
  },
  {
   "cell_type": "code",
   "execution_count": 8,
   "id": "39b05ab8-ebbf-46d5-ba04-6e403c276087",
   "metadata": {},
   "outputs": [],
   "source": [
    "seq_length = 30\n",
    "data = []\n",
    "\n",
    "for i in range(len(df) - seq_length):\n",
    "    data.append(df.Close[i:i+seq_length])\n",
    "\n",
    "data = np.array(data)"
   ]
  },
  {
   "cell_type": "code",
   "execution_count": 10,
   "id": "d467eac2-ab98-4c56-8ed2-e52cc5c9c062",
   "metadata": {},
   "outputs": [
    {
     "data": {
      "text/plain": [
       "array([[[-1.93233935],\n",
       "        [-1.94818239],\n",
       "        [-1.93532388],\n",
       "        ...,\n",
       "        [-1.82372701],\n",
       "        [-1.78244926],\n",
       "        [-1.79512065]],\n",
       "\n",
       "       [[-1.94818239],\n",
       "        [-1.93532388],\n",
       "        [-1.94297345],\n",
       "        ...,\n",
       "        [-1.78244926],\n",
       "        [-1.79512065],\n",
       "        [-1.79468563]],\n",
       "\n",
       "       [[-1.93532388],\n",
       "        [-1.94297345],\n",
       "        [-1.91693115],\n",
       "        ...,\n",
       "        [-1.79512065],\n",
       "        [-1.79468563],\n",
       "        [-1.82704401]],\n",
       "\n",
       "       ...,\n",
       "\n",
       "       [[ 0.93272448],\n",
       "        [ 0.9609982 ],\n",
       "        [ 0.9484321 ],\n",
       "        ...,\n",
       "        [ 0.9793988 ],\n",
       "        [ 1.0011652 ],\n",
       "        [ 0.99151601]],\n",
       "\n",
       "       [[ 0.9609982 ],\n",
       "        [ 0.9484321 ],\n",
       "        [ 0.95022731],\n",
       "        ...,\n",
       "        [ 1.0011652 ],\n",
       "        [ 0.99151601],\n",
       "        [ 1.22331667]],\n",
       "\n",
       "       [[ 0.9484321 ],\n",
       "        [ 0.95022731],\n",
       "        [ 1.04200501],\n",
       "        ...,\n",
       "        [ 0.99151601],\n",
       "        [ 1.22331667],\n",
       "        [ 1.37545684]]])"
      ]
     },
     "execution_count": 10,
     "metadata": {},
     "output_type": "execute_result"
    }
   ],
   "source": [
    "data"
   ]
  },
  {
   "cell_type": "code",
   "execution_count": 11,
   "id": "51e50082-40e9-4548-865a-8ee3266187af",
   "metadata": {},
   "outputs": [],
   "source": [
    "train_size = int(0.8 * len(data))\n",
    "\n",
    "X_train = torch.from_numpy(data[:train_size, :-1, :])\n",
    "y_train = torch.from_numpy(data[:train_size, -1, :])\n",
    "X_test = torch.from_numpy(data[train_size:, :-1, :])\n",
    "y_test = torch.from_numpy(data[train_size:, -1, :])"
   ]
  },
  {
   "cell_type": "code",
   "execution_count": null,
   "id": "25858cde-c35f-472e-bb67-445f00bfc946",
   "metadata": {},
   "outputs": [],
   "source": [
    "class PredictionModel(nn.Module):\n",
    "\n",
    "    def __init__(self, input_dim, hidden_dim, num_layers, output_dim):\n",
    "        super(PredictionModel, self).__init__()\n",
    "\n",
    "        self.num_layers = num_layers\n",
    "        self.hidden_dim = hidden_dim\n",
    "\n",
    "        self.lstm = nn.LSTM(input_dim, hidden_dim, num_layers, batch_first = True)\n",
    "        self.fc = nn.Linear(hidden_dim, output_dim)\n",
    "\n",
    "    def forward(self, x):\n",
    "        h0 = "
   ]
  }
 ],
 "metadata": {
  "kernelspec": {
   "display_name": "Python 3 (ipykernel)",
   "language": "python",
   "name": "python3"
  },
  "language_info": {
   "codemirror_mode": {
    "name": "ipython",
    "version": 3
   },
   "file_extension": ".py",
   "mimetype": "text/x-python",
   "name": "python",
   "nbconvert_exporter": "python",
   "pygments_lexer": "ipython3",
   "version": "3.12.4"
  }
 },
 "nbformat": 4,
 "nbformat_minor": 5
}
